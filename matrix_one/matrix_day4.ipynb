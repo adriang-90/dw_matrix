{
  "nbformat": 4,
  "nbformat_minor": 0,
  "metadata": {
    "colab": {
      "name": "matrix_day4.ipynb",
      "provenance": [],
      "collapsed_sections": [],
      "mount_file_id": "1MsisLQdE4YUkv0yQvniU8dHx3U7FUHn_",
      "authorship_tag": "ABX9TyPV8hF0qmGZEmpnk+63p9fE"
    },
    "kernelspec": {
      "name": "python3",
      "display_name": "Python 3"
    }
  },
  "cells": [
    {
      "cell_type": "code",
      "metadata": {
        "id": "pCNpFPlT8D4x",
        "colab_type": "code",
        "colab": {}
      },
      "source": [
        "import pandas as pd\n",
        "import numpy as np\n",
        "from sklearn.tree import DecisionTreeRegressor\n",
        "from sklearn.metrics import mean_absolute_error\n",
        "from sklearn.model_selection import cross_val_score"
      ],
      "execution_count": 0,
      "outputs": []
    },
    {
      "cell_type": "code",
      "metadata": {
        "id": "qdgznr2TAORC",
        "colab_type": "code",
        "outputId": "7f5c0db0-d4e7-44ca-95ae-61d6133a5d75",
        "colab": {
          "base_uri": "https://localhost:8080/",
          "height": 74
        }
      },
      "source": [
        "df = pd.read_csv('data/men_shoes.csv')"
      ],
      "execution_count": 0,
      "outputs": [
        {
          "output_type": "stream",
          "text": [
            "/usr/local/lib/python3.6/dist-packages/IPython/core/interactiveshell.py:2718: DtypeWarning: Columns (29) have mixed types. Specify dtype option on import or set low_memory=False.\n",
            "  interactivity=interactivity, compiler=compiler, result=result)\n"
          ],
          "name": "stderr"
        }
      ]
    },
    {
      "cell_type": "code",
      "metadata": {
        "id": "wCnUNrc6Am-H",
        "colab_type": "code",
        "outputId": "fd726067-32c7-479b-acd9-cec5d8104777",
        "colab": {
          "base_uri": "https://localhost:8080/",
          "height": 36
        }
      },
      "source": [
        "mean_price = np.mean( df['prices_amountmin'])\n",
        "mean_price"
      ],
      "execution_count": 0,
      "outputs": [
        {
          "output_type": "execute_result",
          "data": {
            "text/plain": [
              "93.53952188183217"
            ]
          },
          "metadata": {
            "tags": []
          },
          "execution_count": 29
        }
      ]
    },
    {
      "cell_type": "code",
      "metadata": {
        "id": "JR2_xvZhBMfg",
        "colab_type": "code",
        "outputId": "943290ae-1750-4e44-ab55-754b705a1113",
        "colab": {
          "base_uri": "https://localhost:8080/",
          "height": 36
        }
      },
      "source": [
        "y_true = df['prices_amountmin']\n",
        "y_true.shape"
      ],
      "execution_count": 0,
      "outputs": [
        {
          "output_type": "execute_result",
          "data": {
            "text/plain": [
              "(18280,)"
            ]
          },
          "metadata": {
            "tags": []
          },
          "execution_count": 38
        }
      ]
    },
    {
      "cell_type": "code",
      "metadata": {
        "id": "J569dhGkB_mi",
        "colab_type": "code",
        "outputId": "bf4b240b-cf2e-40dd-a147-344c1416503b",
        "colab": {
          "base_uri": "https://localhost:8080/",
          "height": 36
        }
      },
      "source": [
        "y_pred = [mean_price] * y_true.shape[0]\n",
        "\n",
        "mean_absolute_error(y_true, y_pred)"
      ],
      "execution_count": 0,
      "outputs": [
        {
          "output_type": "execute_result",
          "data": {
            "text/plain": [
              "63.968341227870624"
            ]
          },
          "metadata": {
            "tags": []
          },
          "execution_count": 43
        }
      ]
    },
    {
      "cell_type": "code",
      "metadata": {
        "id": "TtBlpZhMCT4l",
        "colab_type": "code",
        "colab": {}
      },
      "source": [
        "#sredni blad daje 63, natomiast prawidlowa srednia to 93"
      ],
      "execution_count": 0,
      "outputs": []
    },
    {
      "cell_type": "code",
      "metadata": {
        "id": "2EmTEgaRFJyy",
        "colab_type": "code",
        "outputId": "a2782be6-0a81-4bd0-bd07-7e6c95b8d4a6",
        "colab": {
          "base_uri": "https://localhost:8080/",
          "height": 284
        }
      },
      "source": [
        "np.log1p(df['prices_amountmin'] ).hist(bins=100)"
      ],
      "execution_count": 0,
      "outputs": [
        {
          "output_type": "execute_result",
          "data": {
            "text/plain": [
              "<matplotlib.axes._subplots.AxesSubplot at 0x7f54f125ffd0>"
            ]
          },
          "metadata": {
            "tags": []
          },
          "execution_count": 46
        },
        {
          "output_type": "display_data",
          "data": {
            "image/png": "[encoded data removed]",
            "text/plain": [
              "<Figure size 432x288 with 1 Axes>"
            ]
          },
          "metadata": {
            "tags": []
          }
        }
      ]
    },
    {
      "cell_type": "code",
      "metadata": {
        "id": "WV0owG1-GQA8",
        "colab_type": "code",
        "outputId": "cbac06d5-73c6-4ea2-cbe7-115760bd72d8",
        "colab": {
          "base_uri": "https://localhost:8080/",
          "height": 36
        }
      },
      "source": [
        "#teraz próba zrobienia z logarytmicznych wartości \n",
        "y_ture = df['prices_amountmin']\n",
        "price_log_mean = np.expm1( np.mean( np.log1p(y_true) ) )\n",
        "y_pred = [price_log_mean] * y_true.shape[0]\n",
        "\n",
        "mean_absolute_error(y_true, y_pred)"
      ],
      "execution_count": 0,
      "outputs": [
        {
          "output_type": "execute_result",
          "data": {
            "text/plain": [
              "58.03539547661041"
            ]
          },
          "metadata": {
            "tags": []
          },
          "execution_count": 55
        }
      ]
    },
    {
      "cell_type": "code",
      "metadata": {
        "id": "OQ-MjSYoIWya",
        "colab_type": "code",
        "outputId": "efb47703-4497-4330-9e4e-bf99d3c86dab",
        "colab": {
          "base_uri": "https://localhost:8080/",
          "height": 241
        }
      },
      "source": [
        "df.brand.value_counts()\n",
        "df['brand_cat'] = df['brand'].factorize()[0]\n",
        "df['brand_cat'].value_counts()"
      ],
      "execution_count": 0,
      "outputs": [
        {
          "output_type": "execute_result",
          "data": {
            "text/plain": [
              "20      1709\n",
              "8        574\n",
              "188      524\n",
              "45       361\n",
              "89       356\n",
              "        ... \n",
              "1032       1\n",
              "1699       1\n",
              "1683       1\n",
              "1064       1\n",
              "1855       1\n",
              "Name: brand_cat, Length: 1857, dtype: int64"
            ]
          },
          "metadata": {
            "tags": []
          },
          "execution_count": 87
        }
      ]
    },
    {
      "cell_type": "code",
      "metadata": {
        "id": "kALwbUGWRHLs",
        "colab_type": "code",
        "outputId": "0322017c-eb09-4994-e7f2-a04a4dd1670a",
        "colab": {
          "base_uri": "https://localhost:8080/",
          "height": 241
        }
      },
      "source": [
        "df.manufacturer.value_counts()\n",
        "df['manufacturer_er'] = df['manufacturer'].factorize()[0]\n",
        "df['manufacturer_er'].value_counts()"
      ],
      "execution_count": 0,
      "outputs": [
        {
          "output_type": "execute_result",
          "data": {
            "text/plain": [
              "-1      11984\n",
              " 2        476\n",
              " 14       374\n",
              " 19       249\n",
              " 50       170\n",
              "        ...  \n",
              " 6          1\n",
              " 141        1\n",
              " 227        1\n",
              " 243        1\n",
              " 583        1\n",
              "Name: manufacturer_er, Length: 619, dtype: int64"
            ]
          },
          "metadata": {
            "tags": []
          },
          "execution_count": 90
        }
      ]
    },
    {
      "cell_type": "code",
      "metadata": {
        "id": "-XxdnJHaQ2DO",
        "colab_type": "code",
        "colab": {}
      },
      "source": [
        ""
      ],
      "execution_count": 0,
      "outputs": []
    },
    {
      "cell_type": "code",
      "metadata": {
        "id": "sIfAeakyMxPv",
        "colab_type": "code",
        "colab": {}
      },
      "source": [
        "def run_model(feats):\n",
        "  X = df[feats].values\n",
        "  y = df['prices_amountmin'].values\n",
        "\n",
        "  model = DecisionTreeRegressor(max_depth=5)\n",
        "\n",
        "  scores = cross_val_score(model, X, y, scoring = 'neg_mean_absolute_error')\n",
        "  return np.mean(scores), np.std(scores)"
      ],
      "execution_count": 0,
      "outputs": []
    },
    {
      "cell_type": "code",
      "metadata": {
        "id": "aMBFzJ3ZNyNI",
        "colab_type": "code",
        "outputId": "fef85dd1-7d2e-43aa-bdd8-e8a6be19c5b5",
        "colab": {
          "base_uri": "https://localhost:8080/",
          "height": 36
        }
      },
      "source": [
        "run_model(['brand_cat'])"
      ],
      "execution_count": 144,
      "outputs": [
        {
          "output_type": "execute_result",
          "data": {
            "text/plain": [
              "(-58.38655694633361, 4.223555478221712)"
            ]
          },
          "metadata": {
            "tags": []
          },
          "execution_count": 144
        }
      ]
    },
    {
      "cell_type": "code",
      "metadata": {
        "id": "HtOgp-7nN762",
        "colab_type": "code",
        "outputId": "04089e3c-edef-493a-92bc-de03ff081c11",
        "colab": {
          "base_uri": "https://localhost:8080/",
          "height": 36
        }
      },
      "source": [
        "run_model(['manufacturer_er'])"
      ],
      "execution_count": 142,
      "outputs": [
        {
          "output_type": "execute_result",
          "data": {
            "text/plain": [
              "(-63.133649278023746, 3.394307434888982)"
            ]
          },
          "metadata": {
            "tags": []
          },
          "execution_count": 142
        }
      ]
    },
    {
      "cell_type": "code",
      "metadata": {
        "id": "aBnLZk08R58s",
        "colab_type": "code",
        "outputId": "de79883e-2d99-4652-d0c2-e1c473c55029",
        "colab": {
          "base_uri": "https://localhost:8080/",
          "height": 36
        }
      },
      "source": [
        "run_model(['brand_cat'\n",
        ", 'manufacturer_er'])"
      ],
      "execution_count": 143,
      "outputs": [
        {
          "output_type": "execute_result",
          "data": {
            "text/plain": [
              "(-58.53930419908596, 4.311223231615451)"
            ]
          },
          "metadata": {
            "tags": []
          },
          "execution_count": 143
        }
      ]
    }
  ]
}